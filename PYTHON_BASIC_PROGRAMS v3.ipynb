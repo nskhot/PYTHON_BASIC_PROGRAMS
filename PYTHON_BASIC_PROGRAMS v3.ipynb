{
 "cells": [
  {
   "cell_type": "code",
   "execution_count": 9,
   "id": "d6aa1362",
   "metadata": {},
   "outputs": [
    {
     "name": "stdout",
     "output_type": "stream",
     "text": [
      "enter the string :ajay\n",
      "enter the number :3\n",
      "ajajaj\n"
     ]
    }
   ],
   "source": [
    "# Write a Python program to get the n (non-negative integer) copies of the first 2 characters of a given string. Return the n copies of the whole string if the length is less than 2.\n",
    "\n",
    "\n",
    "str1 =input(\"enter the string :\") \n",
    "n= int(input(\"enter the number :\"))\n",
    "\n",
    "if len(str1) > 2:\n",
    "    print(str1[:2]*n)\n",
    "    \n",
    "else:\n",
    "    print(str1*n)"
   ]
  },
  {
   "cell_type": "code",
   "execution_count": 10,
   "id": "b77df8c2",
   "metadata": {},
   "outputs": [
    {
     "name": "stdout",
     "output_type": "stream",
     "text": [
      "Enter the letter :q\n",
      "not vowel :\n",
      "Enter the letter :e\n",
      "is vowel :\n",
      "not vowel :\n",
      "is vowel :\n"
     ]
    }
   ],
   "source": [
    "#Write a Python program to test whether a passed letter is a vowel or not.\n",
    "\n",
    "l = input(\"Enter the letter :\")\n",
    "\n",
    "vowel = \"aeiou\"\n",
    "\n",
    "if l in vowel:\n",
    "    print(\"is vowel :\")\n",
    "    \n",
    "else:\n",
    "    print(\"not vowel :\")\n",
    "   \n",
    "\n",
    "\n",
    "\n",
    "# this is another type (using list)\n",
    "l = input(\"Enter the letter :\")\n",
    "\n",
    "vowel = [\"a\",\"e\",\"i\",\"o\",\"u\"]\n",
    "\n",
    "if l in vowel:\n",
    "    print(\"is vowel :\")\n",
    "    \n",
    "else:\n",
    "    print(\"not vowel :\")\n",
    "   \n",
    "\n",
    "# this is another type (using function)\n",
    "def is_vowel_(l):\n",
    "    vowel = [\"a\",\"e\",\"i\",\"o\",\"u\"]\n",
    "\n",
    "    if l in vowel:\n",
    "        print(\"is vowel :\")\n",
    "       \n",
    "    \n",
    "    else:\n",
    "        print(\"not vowel :\")\n",
    "      \n",
    "    \n",
    "is_vowel_(\"m\")\n",
    "\n",
    "is_vowel_(\"u\")\n",
    "        \n",
    "   \n",
    "\n"
   ]
  },
  {
   "cell_type": "code",
   "execution_count": 16,
   "id": "c4240f3d",
   "metadata": {},
   "outputs": [
    {
     "name": "stdout",
     "output_type": "stream",
     "text": [
      "20\n"
     ]
    },
    {
     "data": {
      "text/plain": [
       "20"
      ]
     },
     "execution_count": 16,
     "metadata": {},
     "output_type": "execute_result"
    }
   ],
   "source": [
    "s =6\n",
    "def sun(l):\n",
    "    for i in range(s):\n",
    "        l=l+i\n",
    "      \n",
    "    print(l)\n",
    "    return(l)    \n",
    "  \n",
    "    \n",
    "sun(5)    "
   ]
  },
  {
   "cell_type": "code",
   "execution_count": 17,
   "id": "2ef72348",
   "metadata": {},
   "outputs": [
    {
     "name": "stdout",
     "output_type": "stream",
     "text": [
      "True\n",
      "False\n"
     ]
    }
   ],
   "source": [
    "#Write a Python program to check whether a specified value is contained in a group of values. \n",
    "#Test Data :\n",
    "#3 -> [1, 5, 8, 3] : True\n",
    "#-1 -> [1, 5, 8, 3] : False\n",
    "\n",
    "\n",
    "def in_list_(l1):\n",
    "    l= [1,5,8,3]\n",
    "    if l1 in l:\n",
    "        print(True)\n",
    "        \n",
    "    else:\n",
    "        print(False)\n",
    "        \n",
    "in_list_(3)\n",
    "in_list_(-1)\n",
    "\n",
    "\n",
    "    \n",
    "    "
   ]
  },
  {
   "cell_type": "code",
   "execution_count": 19,
   "id": "259d05a9",
   "metadata": {},
   "outputs": [
    {
     "name": "stdout",
     "output_type": "stream",
     "text": [
      "*\n",
      "**\n",
      "***\n",
      "****\n"
     ]
    }
   ],
   "source": [
    "#Write a Python program to create a histogram from a given list of integers\n",
    "\n",
    "def histogram(items):\n",
    "    for n in items:\n",
    "        \n",
    "        output = \"\"\n",
    "        \n",
    "        for i in range(n):\n",
    "            output+= \"*\"\n",
    "            \n",
    "        print(output)    \n",
    "histogram([1,2,3,4])        \n",
    "        \n"
   ]
  },
  {
   "cell_type": "code",
   "execution_count": 4,
   "id": "62d73cce",
   "metadata": {},
   "outputs": [
    {
     "name": "stdout",
     "output_type": "stream",
     "text": [
      "Nitin\n"
     ]
    }
   ],
   "source": [
    "#Write a Python program to concatenate all elements in a list into a string and return it.\n",
    "\n",
    "list1 = [\"N\",\"i\",\"t\",\"i\",\"n\"]\n",
    "output = \"\"\n",
    "\n",
    "for i in list1:\n",
    "    output+=i\n",
    "print(output)    \n",
    "   "
   ]
  },
  {
   "cell_type": "code",
   "execution_count": 20,
   "id": "d203af89",
   "metadata": {},
   "outputs": [
    {
     "name": "stdout",
     "output_type": "stream",
     "text": [
      "386\n",
      "462\n",
      "418\n",
      "344\n",
      "236\n",
      "566\n",
      "978\n",
      "328\n",
      "162\n",
      "758\n",
      "918\n",
      "237\n"
     ]
    }
   ],
   "source": [
    "#Write a Python program to print all even numbers from a given numbers list in the same order and stop the printing if any numbers that come after 237 in the sequence\n",
    "#Sample numbers list :\n",
    "\n",
    "numbers = [    \n",
    "    386, 462, 47, 418, 907, 344, 236, 375, 823, 566, 597, 978, 328, 615, 953, 345, \n",
    "    399, 162, 758, 219, 918, 237, 412, 566, 826, 248, 866, 950, 626, 949, 687, 217, \n",
    "    815, 67, 104, 58, 512, 24, 892, 894, 767, 553, 81, 379, 843, 831, 445, 742, 717, \n",
    "    958,743, 527\n",
    "    ]\n",
    "  \n",
    "    \n",
    "for l in numbers:\n",
    "  \n",
    "    \n",
    "    \n",
    "   if l==237:\n",
    "    print(l)\n",
    "    break;\n",
    "        \n",
    "        \n",
    "   elif l%2==0:\n",
    "    print(l)\n",
    "    "
   ]
  },
  {
   "cell_type": "code",
   "execution_count": 28,
   "id": "6b9dcdc7",
   "metadata": {},
   "outputs": [
    {
     "name": "stdout",
     "output_type": "stream",
     "text": [
      "{'Red', 'White', 'Black'}\n",
      "{'Red', 'Green'}\n",
      "Expected outout: {'White', 'Black'}\n"
     ]
    }
   ],
   "source": [
    "#Write a Python program to print out a set containing all the colors from color_list_1 which are not present in color_list_2. \n",
    "#Test Data :\n",
    "color_list_1 = set([\"White\", \"Black\", \"Red\"])\n",
    "color_list_2 = set([\"Red\", \"Green\"])\n",
    "#Expected Output :\n",
    "#{'Black', 'White'}\n",
    "print(color_list_1)\n",
    "print(color_list_2)\n",
    "\n",
    "list3 = color_list_1.difference(color_list_2)\n",
    "print(\"Expected outout:\",list3)\n",
    "    "
   ]
  },
  {
   "cell_type": "code",
   "execution_count": 30,
   "id": "d9f8b0ed",
   "metadata": {},
   "outputs": [
    {
     "name": "stdout",
     "output_type": "stream",
     "text": [
      "Enter the height of the triangle :5\n",
      "Enter the base of triangle :4\n",
      "Area of the Triangle is : 10.0\n"
     ]
    }
   ],
   "source": [
    "#Write a Python program that will accept the base and height of a triangle and compute the area.\n",
    "\n",
    "\n",
    "\n",
    "h = float(input(\"Enter the height of the triangle :\"))\n",
    "b = float(input(\"Enter the base of triangle :\"))\n",
    "a = (h*b)/2\n",
    "print(\"Area of the Triangle is :\",a)"
   ]
  },
  {
   "cell_type": "code",
   "execution_count": 9,
   "id": "3ea00a9d",
   "metadata": {},
   "outputs": [
    {
     "name": "stdout",
     "output_type": "stream",
     "text": [
      "enter the first value :4\n",
      "enter the second value :5\n",
      "enter the third value :4\n",
      "sum is : 0\n",
      "sum is : 0\n",
      "20\n"
     ]
    }
   ],
   "source": [
    "#Write a Python program to sum of three given integers. However, if two values are equal sum will be zero.\n",
    "\n",
    "\n",
    "a = float(input(\"enter the first value :\"))\n",
    "b = float(input(\"enter the second value :\"))\n",
    "c =float(input(\"enter the third value :\"))\n",
    "\n",
    "sum = a+b+c\n",
    "\n",
    "if a==b or b==c or a==c :\n",
    "    print('sum is :', 0)\n",
    "    \n",
    "else:\n",
    "    print(sum)\n",
    "    \n",
    "   \n",
    "    \n",
    "#using function  \n",
    "\n",
    "\n",
    "def sum(a,b,c):\n",
    "    sum = a+b+c\n",
    "    \n",
    "    if a==b or b==c or a==c :\n",
    "        print('sum is :', 0)\n",
    "    \n",
    "    else:\n",
    "        print(sum)\n",
    "        \n",
    "sum(1,4,1)\n",
    "sum(7,8,5)"
   ]
  },
  {
   "cell_type": "code",
   "execution_count": 15,
   "id": "68a31efa",
   "metadata": {},
   "outputs": [
    {
     "name": "stdout",
     "output_type": "stream",
     "text": [
      "20\n",
      "35\n",
      "20\n"
     ]
    }
   ],
   "source": [
    "#Write a Python program to sum of two given integers. However, if the sum is between 15 to 20 it will return 20.\n",
    "\n",
    "def sum(a,b):\n",
    "    sum =a+b\n",
    "\n",
    "    if sum in range(15,20):\n",
    "        return 20\n",
    "    else:\n",
    "        return sum\n",
    "    \n",
    "print(sum(2,15))\n",
    "print(sum(12,23))\n",
    "print(sum(14,4))"
   ]
  },
  {
   "cell_type": "code",
   "execution_count": 17,
   "id": "e1473e81",
   "metadata": {},
   "outputs": [
    {
     "name": "stdout",
     "output_type": "stream",
     "text": [
      "True\n",
      "True\n",
      "False\n",
      "True\n"
     ]
    }
   ],
   "source": [
    "#Write a Python program that will return true if the two given integer values are equal or their sum or difference is 5. \n",
    "\n",
    "def esd(x,y):\n",
    "    sum = x+y\n",
    "    dif = x-y\n",
    "    \n",
    "    if x==y or sum==5 or dif==5:\n",
    "        return True\n",
    "    else:\n",
    "        return False\n",
    "    \n",
    "print(esd(1,4))\n",
    "print(esd(8,8))\n",
    "print(esd(5,4))\n",
    "print(esd(9,4))"
   ]
  },
  {
   "cell_type": "code",
   "execution_count": 2,
   "id": "6cd90a14",
   "metadata": {},
   "outputs": [
    {
     "name": "stdout",
     "output_type": "stream",
     "text": [
      "5\n",
      "Inputs are not  Integers!\n"
     ]
    }
   ],
   "source": [
    "#Write a Python program to add two objects if both objects are an integer type\n",
    "\n",
    "def add(x,y):\n",
    "    sum=x+y\n",
    "    \n",
    "    if isinstance(x,int) and isinstance(y,int):\n",
    "        print(sum)\n",
    "        \n",
    "    else:\n",
    "        print(\"Inputs are not  Integers!\")\n",
    "    \n",
    "add(2,3)\n",
    "add(2.4,4)\n"
   ]
  },
  {
   "cell_type": "code",
   "execution_count": 3,
   "id": "596b6c55",
   "metadata": {},
   "outputs": [
    {
     "name": "stdout",
     "output_type": "stream",
     "text": [
      "12722.79\n"
     ]
    }
   ],
   "source": [
    "#Write a Python program to compute the future value of a specified principal amount, rate of interest, and a number of years. \n",
    "#Test Data : amt = 10000, int = 3.5, years = 7\n",
    "\n",
    "\n",
    "\n",
    "amt = 10000\n",
    "int = 3.5\n",
    "years = 7\n",
    "future_value = amt*((1+(0.01*int)) ** years)\n",
    "print(round(future_value,2))\n"
   ]
  },
  {
   "cell_type": "code",
   "execution_count": 18,
   "id": "187b631d",
   "metadata": {},
   "outputs": [
    {
     "name": "stdout",
     "output_type": "stream",
     "text": [
      "6.324555320336759\n"
     ]
    }
   ],
   "source": [
    "#Write a Python program to compute the distance between the points (x1, y1) and (x2, y2).\n",
    "\n",
    "import math\n",
    "\n",
    "p1 =(4,0)\n",
    "p2=(6,6)\n",
    "x1= 4\n",
    "y1 = 0\n",
    "x2=6\n",
    "y2=6\n",
    "\n",
    "distance= math.sqrt((x2- x1)**2 + (y2 -y1)**2)\n",
    "print(distance)"
   ]
  },
  {
   "cell_type": "code",
   "execution_count": null,
   "id": "d6bee6d6",
   "metadata": {},
   "outputs": [],
   "source": []
  }
 ],
 "metadata": {
  "kernelspec": {
   "display_name": "Python 3 (ipykernel)",
   "language": "python",
   "name": "python3"
  },
  "language_info": {
   "codemirror_mode": {
    "name": "ipython",
    "version": 3
   },
   "file_extension": ".py",
   "mimetype": "text/x-python",
   "name": "python",
   "nbconvert_exporter": "python",
   "pygments_lexer": "ipython3",
   "version": "3.8.10"
  }
 },
 "nbformat": 4,
 "nbformat_minor": 5
}
