{
 "cells": [
  {
   "cell_type": "code",
   "execution_count": 9,
   "id": "d6aa1362",
   "metadata": {},
   "outputs": [
    {
     "name": "stdout",
     "output_type": "stream",
     "text": [
      "enter the string :ajay\n",
      "enter the number :3\n",
      "ajajaj\n"
     ]
    }
   ],
   "source": [
    "# Write a Python program to get the n (non-negative integer) copies of the first 2 characters of a given string. Return the n copies of the whole string if the length is less than 2.\n",
    "\n",
    "\n",
    "str1 =input(\"enter the string :\") \n",
    "n= int(input(\"enter the number :\"))\n",
    "\n",
    "if len(str1) > 2:\n",
    "    print(str1[:2]*n)\n",
    "    \n",
    "else:\n",
    "    print(str1*n)"
   ]
  },
  {
   "cell_type": "code",
   "execution_count": 10,
   "id": "b77df8c2",
   "metadata": {},
   "outputs": [
    {
     "name": "stdout",
     "output_type": "stream",
     "text": [
      "Enter the letter :q\n",
      "not vowel :\n",
      "Enter the letter :e\n",
      "is vowel :\n",
      "not vowel :\n",
      "is vowel :\n"
     ]
    }
   ],
   "source": [
    "#Write a Python program to test whether a passed letter is a vowel or not.\n",
    "\n",
    "l = input(\"Enter the letter :\")\n",
    "\n",
    "vowel = \"aeiou\"\n",
    "\n",
    "if l in vowel:\n",
    "    print(\"is vowel :\")\n",
    "    \n",
    "else:\n",
    "    print(\"not vowel :\")\n",
    "   \n",
    "\n",
    "\n",
    "\n",
    "# this is another type (using list)\n",
    "l = input(\"Enter the letter :\")\n",
    "\n",
    "vowel = [\"a\",\"e\",\"i\",\"o\",\"u\"]\n",
    "\n",
    "if l in vowel:\n",
    "    print(\"is vowel :\")\n",
    "    \n",
    "else:\n",
    "    print(\"not vowel :\")\n",
    "   \n",
    "\n",
    "# this is another type (using function)\n",
    "def is_vowel_(l):\n",
    "    vowel = [\"a\",\"e\",\"i\",\"o\",\"u\"]\n",
    "\n",
    "    if l in vowel:\n",
    "        print(\"is vowel :\")\n",
    "       \n",
    "    \n",
    "    else:\n",
    "        print(\"not vowel :\")\n",
    "      \n",
    "    \n",
    "is_vowel_(\"m\")\n",
    "\n",
    "is_vowel_(\"u\")\n",
    "        \n",
    "   \n",
    "\n"
   ]
  },
  {
   "cell_type": "code",
   "execution_count": 16,
   "id": "c4240f3d",
   "metadata": {},
   "outputs": [
    {
     "name": "stdout",
     "output_type": "stream",
     "text": [
      "20\n"
     ]
    },
    {
     "data": {
      "text/plain": [
       "20"
      ]
     },
     "execution_count": 16,
     "metadata": {},
     "output_type": "execute_result"
    }
   ],
   "source": [
    "s =6\n",
    "def sun(l):\n",
    "    for i in range(s):\n",
    "        l=l+i\n",
    "      \n",
    "    print(l)\n",
    "    return(l)    \n",
    "  \n",
    "    \n",
    "sun(5)    "
   ]
  },
  {
   "cell_type": "code",
   "execution_count": 17,
   "id": "2ef72348",
   "metadata": {},
   "outputs": [
    {
     "name": "stdout",
     "output_type": "stream",
     "text": [
      "True\n",
      "False\n"
     ]
    }
   ],
   "source": [
    "#Write a Python program to check whether a specified value is contained in a group of values. \n",
    "#Test Data :\n",
    "#3 -> [1, 5, 8, 3] : True\n",
    "#-1 -> [1, 5, 8, 3] : False\n",
    "\n",
    "\n",
    "def in_list_(l1):\n",
    "    l= [1,5,8,3]\n",
    "    if l1 in l:\n",
    "        print(True)\n",
    "        \n",
    "    else:\n",
    "        print(False)\n",
    "        \n",
    "in_list_(3)\n",
    "in_list_(-1)\n",
    "\n",
    "\n",
    "    \n",
    "    "
   ]
  },
  {
   "cell_type": "code",
   "execution_count": 19,
   "id": "259d05a9",
   "metadata": {},
   "outputs": [
    {
     "name": "stdout",
     "output_type": "stream",
     "text": [
      "*\n",
      "**\n",
      "***\n",
      "****\n"
     ]
    }
   ],
   "source": [
    "#Write a Python program to create a histogram from a given list of integers\n",
    "\n",
    "def histogram(items):\n",
    "    for n in items:\n",
    "        \n",
    "        output = \"\"\n",
    "        \n",
    "        for i in range(n):\n",
    "            output+= \"*\"\n",
    "            \n",
    "        print(output)    \n",
    "histogram([1,2,3,4])        \n",
    "        \n"
   ]
  },
  {
   "cell_type": "code",
   "execution_count": null,
   "id": "62d73cce",
   "metadata": {},
   "outputs": [],
   "source": []
  }
 ],
 "metadata": {
  "kernelspec": {
   "display_name": "Python 3",
   "language": "python",
   "name": "python3"
  },
  "language_info": {
   "codemirror_mode": {
    "name": "ipython",
    "version": 3
   },
   "file_extension": ".py",
   "mimetype": "text/x-python",
   "name": "python",
   "nbconvert_exporter": "python",
   "pygments_lexer": "ipython3",
   "version": "3.6.9"
  }
 },
 "nbformat": 4,
 "nbformat_minor": 5
}
