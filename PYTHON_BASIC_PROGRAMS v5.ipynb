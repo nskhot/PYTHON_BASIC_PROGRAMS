{
 "cells": [
  {
   "cell_type": "code",
   "execution_count": 1,
   "id": "d6aa1362",
   "metadata": {},
   "outputs": [
    {
     "name": "stdout",
     "output_type": "stream",
     "text": [
      "enter the string :nitin\n",
      "enter the number :3\n",
      "ninini\n"
     ]
    }
   ],
   "source": [
    "# Write a Python program to get the n (non-negative integer) copies of the first 2 characters of a given string. Return the n copies of the whole string if the length is less than 2.\n",
    "\n",
    "\n",
    "str1 =input(\"enter the string :\") \n",
    "n= int(input(\"enter the number :\"))\n",
    "\n",
    "if len(str1) > 2:\n",
    "    print(str1[:2]*n)\n",
    "    \n",
    "else:\n",
    "    print(str1*n)"
   ]
  },
  {
   "cell_type": "code",
   "execution_count": 2,
   "id": "b77df8c2",
   "metadata": {},
   "outputs": [
    {
     "name": "stdout",
     "output_type": "stream",
     "text": [
      "Enter the letter :k\n",
      "not vowel :\n",
      "Enter the letter :i\n",
      "is vowel :\n",
      "not vowel :\n",
      "is vowel :\n"
     ]
    }
   ],
   "source": [
    "#Write a Python program to test whether a passed letter is a vowel or not.\n",
    "\n",
    "l = input(\"Enter the letter :\")\n",
    "\n",
    "vowel = \"aeiou\"\n",
    "\n",
    "if l in vowel:\n",
    "    print(\"is vowel :\")\n",
    "    \n",
    "else:\n",
    "    print(\"not vowel :\")\n",
    "   \n",
    "\n",
    "\n",
    "\n",
    "# this is another type (using list)\n",
    "l = input(\"Enter the letter :\")\n",
    "\n",
    "vowel = [\"a\",\"e\",\"i\",\"o\",\"u\"]\n",
    "\n",
    "if l in vowel:\n",
    "    print(\"is vowel :\")\n",
    "    \n",
    "else:\n",
    "    print(\"not vowel :\")\n",
    "   \n",
    "\n",
    "# this is another type (using function)\n",
    "def is_vowel_(l):\n",
    "    vowel = [\"a\",\"e\",\"i\",\"o\",\"u\"]\n",
    "\n",
    "    if l in vowel:\n",
    "        print(\"is vowel :\")\n",
    "       \n",
    "    \n",
    "    else:\n",
    "        print(\"not vowel :\")\n",
    "      \n",
    "    \n",
    "is_vowel_(\"m\")\n",
    "\n",
    "is_vowel_(\"u\")\n",
    "        \n",
    "   \n",
    "\n"
   ]
  },
  {
   "cell_type": "code",
   "execution_count": 3,
   "id": "c4240f3d",
   "metadata": {},
   "outputs": [
    {
     "name": "stdout",
     "output_type": "stream",
     "text": [
      "20\n"
     ]
    },
    {
     "data": {
      "text/plain": [
       "20"
      ]
     },
     "execution_count": 3,
     "metadata": {},
     "output_type": "execute_result"
    }
   ],
   "source": [
    "s =6\n",
    "def sun(l):\n",
    "    for i in range(s):\n",
    "        l=l+i\n",
    "      \n",
    "    print(l)\n",
    "    return(l)    \n",
    "  \n",
    "    \n",
    "sun(5)    "
   ]
  },
  {
   "cell_type": "code",
   "execution_count": 4,
   "id": "2ef72348",
   "metadata": {},
   "outputs": [
    {
     "name": "stdout",
     "output_type": "stream",
     "text": [
      "True\n",
      "False\n"
     ]
    }
   ],
   "source": [
    "#Write a Python program to check whether a specified value is contained in a group of values. \n",
    "#Test Data :\n",
    "#3 -> [1, 5, 8, 3] : True\n",
    "#-1 -> [1, 5, 8, 3] : False\n",
    "\n",
    "\n",
    "def in_list_(l1):\n",
    "    l= [1,5,8,3]\n",
    "    if l1 in l:\n",
    "        print(True)\n",
    "        \n",
    "    else:\n",
    "        print(False)\n",
    "        \n",
    "in_list_(3)\n",
    "in_list_(-1)\n",
    "\n",
    "\n",
    "    \n",
    "    "
   ]
  },
  {
   "cell_type": "code",
   "execution_count": 5,
   "id": "259d05a9",
   "metadata": {},
   "outputs": [
    {
     "name": "stdout",
     "output_type": "stream",
     "text": [
      "*\n",
      "**\n",
      "***\n",
      "****\n"
     ]
    }
   ],
   "source": [
    "#Write a Python program to create a histogram from a given list of integers\n",
    "\n",
    "def histogram(items):\n",
    "    for n in items:\n",
    "        \n",
    "        output = \"\"\n",
    "        \n",
    "        for i in range(n):\n",
    "            output+= \"*\"\n",
    "            \n",
    "        print(output)    \n",
    "histogram([1,2,3,4])        \n",
    "        \n"
   ]
  },
  {
   "cell_type": "code",
   "execution_count": 6,
   "id": "62d73cce",
   "metadata": {},
   "outputs": [
    {
     "name": "stdout",
     "output_type": "stream",
     "text": [
      "Nitin\n"
     ]
    }
   ],
   "source": [
    "#Write a Python program to concatenate all elements in a list into a string and return it.\n",
    "\n",
    "list1 = [\"N\",\"i\",\"t\",\"i\",\"n\"]\n",
    "output = \"\"\n",
    "\n",
    "for i in list1:\n",
    "    output+=i\n",
    "print(output)    \n",
    "   "
   ]
  },
  {
   "cell_type": "code",
   "execution_count": 7,
   "id": "d203af89",
   "metadata": {},
   "outputs": [
    {
     "name": "stdout",
     "output_type": "stream",
     "text": [
      "386\n",
      "462\n",
      "418\n",
      "344\n",
      "236\n",
      "566\n",
      "978\n",
      "328\n",
      "162\n",
      "758\n",
      "918\n",
      "237\n"
     ]
    }
   ],
   "source": [
    "#Write a Python program to print all even numbers from a given numbers list in the same order and stop the printing if any numbers that come after 237 in the sequence\n",
    "#Sample numbers list :\n",
    "\n",
    "numbers = [    \n",
    "    386, 462, 47, 418, 907, 344, 236, 375, 823, 566, 597, 978, 328, 615, 953, 345, \n",
    "    399, 162, 758, 219, 918, 237, 412, 566, 826, 248, 866, 950, 626, 949, 687, 217, \n",
    "    815, 67, 104, 58, 512, 24, 892, 894, 767, 553, 81, 379, 843, 831, 445, 742, 717, \n",
    "    958,743, 527\n",
    "    ]\n",
    "  \n",
    "    \n",
    "for l in numbers:\n",
    "  \n",
    "    \n",
    "    \n",
    "   if l==237:\n",
    "    print(l)\n",
    "    break;\n",
    "        \n",
    "        \n",
    "   elif l%2==0:\n",
    "    print(l)\n",
    "    "
   ]
  },
  {
   "cell_type": "code",
   "execution_count": 8,
   "id": "6b9dcdc7",
   "metadata": {},
   "outputs": [
    {
     "name": "stdout",
     "output_type": "stream",
     "text": [
      "{'White', 'Red', 'Black'}\n",
      "{'Red', 'Green'}\n",
      "Expected outout: {'White', 'Black'}\n"
     ]
    }
   ],
   "source": [
    "#Write a Python program to print out a set containing all the colors from color_list_1 which are not present in color_list_2. \n",
    "#Test Data :\n",
    "color_list_1 = set([\"White\", \"Black\", \"Red\"])\n",
    "color_list_2 = set([\"Red\", \"Green\"])\n",
    "#Expected Output :\n",
    "#{'Black', 'White'}\n",
    "print(color_list_1)\n",
    "print(color_list_2)\n",
    "\n",
    "list3 = color_list_1.difference(color_list_2)\n",
    "print(\"Expected outout:\",list3)\n",
    "    "
   ]
  },
  {
   "cell_type": "code",
   "execution_count": 9,
   "id": "d9f8b0ed",
   "metadata": {},
   "outputs": [
    {
     "name": "stdout",
     "output_type": "stream",
     "text": [
      "Enter the height of the triangle :4\n",
      "Enter the base of triangle :5\n",
      "Area of the Triangle is : 10.0\n"
     ]
    }
   ],
   "source": [
    "#Write a Python program that will accept the base and height of a triangle and compute the area.\n",
    "\n",
    "\n",
    "\n",
    "h = float(input(\"Enter the height of the triangle :\"))\n",
    "b = float(input(\"Enter the base of triangle :\"))\n",
    "a = (h*b)/2\n",
    "print(\"Area of the Triangle is :\",a)"
   ]
  },
  {
   "cell_type": "code",
   "execution_count": 10,
   "id": "3ea00a9d",
   "metadata": {},
   "outputs": [
    {
     "name": "stdout",
     "output_type": "stream",
     "text": [
      "enter the first value :8\n",
      "enter the second value :5\n",
      "enter the third value :8\n",
      "sum is : 0\n",
      "sum is : 0\n",
      "20\n"
     ]
    }
   ],
   "source": [
    "#Write a Python program to sum of three given integers. However, if two values are equal sum will be zero.\n",
    "\n",
    "\n",
    "a = float(input(\"enter the first value :\"))\n",
    "b = float(input(\"enter the second value :\"))\n",
    "c =float(input(\"enter the third value :\"))\n",
    "\n",
    "sum = a+b+c\n",
    "\n",
    "if a==b or b==c or a==c :\n",
    "    print('sum is :', 0)\n",
    "    \n",
    "else:\n",
    "    print(sum)\n",
    "    \n",
    "   \n",
    "    \n",
    "#using function  \n",
    "\n",
    "\n",
    "def sum(a,b,c):\n",
    "    sum = a+b+c\n",
    "    \n",
    "    if a==b or b==c or a==c :\n",
    "        print('sum is :', 0)\n",
    "    \n",
    "    else:\n",
    "        print(sum)\n",
    "        \n",
    "sum(1,4,1)\n",
    "sum(7,8,5)"
   ]
  },
  {
   "cell_type": "code",
   "execution_count": 11,
   "id": "68a31efa",
   "metadata": {},
   "outputs": [
    {
     "name": "stdout",
     "output_type": "stream",
     "text": [
      "20\n",
      "35\n",
      "20\n"
     ]
    }
   ],
   "source": [
    "#Write a Python program to sum of two given integers. However, if the sum is between 15 to 20 it will return 20.\n",
    "\n",
    "def sum(a,b):\n",
    "    sum =a+b\n",
    "\n",
    "    if sum in range(15,20):\n",
    "        return 20\n",
    "    else:\n",
    "        return sum\n",
    "    \n",
    "print(sum(2,15))\n",
    "print(sum(12,23))\n",
    "print(sum(14,4))"
   ]
  },
  {
   "cell_type": "code",
   "execution_count": 12,
   "id": "e1473e81",
   "metadata": {},
   "outputs": [
    {
     "name": "stdout",
     "output_type": "stream",
     "text": [
      "True\n",
      "True\n",
      "False\n",
      "True\n"
     ]
    }
   ],
   "source": [
    "#Write a Python program that will return true if the two given integer values are equal or their sum or difference is 5. \n",
    "\n",
    "def esd(x,y):\n",
    "    sum = x+y\n",
    "    dif = x-y\n",
    "    \n",
    "    if x==y or sum==5 or dif==5:\n",
    "        return True\n",
    "    else:\n",
    "        return False\n",
    "    \n",
    "print(esd(1,4))\n",
    "print(esd(8,8))\n",
    "print(esd(5,4))\n",
    "print(esd(9,4))"
   ]
  },
  {
   "cell_type": "code",
   "execution_count": 13,
   "id": "6cd90a14",
   "metadata": {},
   "outputs": [
    {
     "name": "stdout",
     "output_type": "stream",
     "text": [
      "5\n",
      "Inputs are not  Integers!\n"
     ]
    }
   ],
   "source": [
    "#Write a Python program to add two objects if both objects are an integer type\n",
    "\n",
    "def add(x,y):\n",
    "    sum=x+y\n",
    "    \n",
    "    if isinstance(x,int) and isinstance(y,int):\n",
    "        print(sum)\n",
    "        \n",
    "    else:\n",
    "        print(\"Inputs are not  Integers!\")\n",
    "    \n",
    "add(2,3)\n",
    "add(2.4,4)\n"
   ]
  },
  {
   "cell_type": "code",
   "execution_count": 14,
   "id": "596b6c55",
   "metadata": {},
   "outputs": [
    {
     "name": "stdout",
     "output_type": "stream",
     "text": [
      "12722.79\n"
     ]
    }
   ],
   "source": [
    "#Write a Python program to compute the future value of a specified principal amount, rate of interest, and a number of years. \n",
    "#Test Data : amt = 10000, int = 3.5, years = 7\n",
    "\n",
    "\n",
    "\n",
    "amt = 10000\n",
    "int = 3.5\n",
    "years = 7\n",
    "future_value = amt*((1+(0.01*int)) ** years)\n",
    "print(round(future_value,2))\n"
   ]
  },
  {
   "cell_type": "code",
   "execution_count": 15,
   "id": "187b631d",
   "metadata": {},
   "outputs": [
    {
     "name": "stdout",
     "output_type": "stream",
     "text": [
      "6.324555320336759\n"
     ]
    }
   ],
   "source": [
    "#Write a Python program to compute the distance between the points (x1, y1) and (x2, y2).\n",
    "\n",
    "import math\n",
    "\n",
    "p1 =(4,0)\n",
    "p2=(6,6)\n",
    "x1= 4\n",
    "y1 = 0\n",
    "x2=6\n",
    "y2=6\n",
    "\n",
    "distance= math.sqrt((x2- x1)**2 + (y2 -y1)**2)\n",
    "print(distance)"
   ]
  },
  {
   "cell_type": "code",
   "execution_count": 16,
   "id": "d6bee6d6",
   "metadata": {},
   "outputs": [
    {
     "name": "stdout",
     "output_type": "stream",
     "text": [
      "True\n",
      "False\n"
     ]
    }
   ],
   "source": [
    "#Write a Python program to check whether a file exists.\n",
    "\n",
    "\n",
    "import os.path\n",
    "print(os.path.isfile('sample.txt'))\n",
    "print(os.path.isfile('main.py'))"
   ]
  },
  {
   "cell_type": "code",
   "execution_count": 17,
   "id": "15dccf75",
   "metadata": {},
   "outputs": [
    {
     "name": "stdout",
     "output_type": "stream",
     "text": [
      "False\n",
      "True\n"
     ]
    }
   ],
   "source": [
    "import os.path\n",
    "\n",
    "print(os.path.exists(\"main.py\"))\n",
    "print(os.path.exists(\"sample.txt\"))"
   ]
  },
  {
   "cell_type": "code",
   "execution_count": 18,
   "id": "75844682",
   "metadata": {},
   "outputs": [
    {
     "name": "stdout",
     "output_type": "stream",
     "text": [
      "64\n"
     ]
    }
   ],
   "source": [
    "# Write a Python program to determine if a Python shell is executing in 32bit or 64bit mode on OS.\n",
    "\n",
    "\n",
    "import struct\n",
    "print(struct.calcsize(\"P\") * 8)\n"
   ]
  },
  {
   "cell_type": "code",
   "execution_count": 19,
   "id": "90e915c3",
   "metadata": {},
   "outputs": [
    {
     "name": "stdout",
     "output_type": "stream",
     "text": [
      "64bit\n",
      "64\n"
     ]
    }
   ],
   "source": [
    "import platform, struct\n",
    "print(platform.architecture()[0])\n",
    "print(struct.calcsize(\"P\") * 8)"
   ]
  },
  {
   "cell_type": "code",
   "execution_count": 20,
   "id": "a1ee3e14",
   "metadata": {},
   "outputs": [
    {
     "name": "stdout",
     "output_type": "stream",
     "text": [
      "Name of the operating system: posix\n",
      "\n",
      "Name of the OS system: Linux\n",
      "\n",
      "Version of the operating system: 5.4.0-97-generic\n"
     ]
    }
   ],
   "source": [
    "#Write a Python program to get OS name, platform and release information\n",
    "\n",
    "import platform\n",
    "import os\n",
    "print(\"Name of the operating system:\",os.name)\n",
    "print(\"\\nName of the OS system:\",platform.system())\n",
    "print(\"\\nVersion of the operating system:\",platform.release())\n"
   ]
  },
  {
   "cell_type": "code",
   "execution_count": 21,
   "id": "2a968189",
   "metadata": {},
   "outputs": [
    {
     "name": "stdout",
     "output_type": "stream",
     "text": [
      "['/usr/local/lib/python3.8/dist-packages', '/usr/lib/python3/dist-packages', '/usr/lib/python3.8/dist-packages']\n"
     ]
    }
   ],
   "source": [
    "#Write a Python program to locate Python site-packages\n",
    "import site; \n",
    "print(site.getsitepackages())"
   ]
  },
  {
   "cell_type": "code",
   "execution_count": 22,
   "id": "69031f52",
   "metadata": {},
   "outputs": [
    {
     "name": "stdout",
     "output_type": "stream",
     "text": [
      "total 132384\n",
      "-rw-rw-r-- 1 speedtech speedtech   162849 Feb  1 17:08 12.python end to end in detail  fo ML v12  29- 1-2022.ipynb\n",
      "-rw-rw-r-- 1 speedtech speedtech    63810 Feb  2 18:02 1. Numerical Python End_To_End_In_Detail  10-01-2022.ipynb\n",
      "-rw-rw-r-- 1 speedtech speedtech    10163 Jan 17 16:28 cars1(2).csv\n",
      "-rw-rw-r-- 1 speedtech speedtech 23982555 Jan 31 19:28 Fake.csv.zip\n",
      "-rw-rw-r-- 1 speedtech speedtech    70630 Feb  6 17:02 Fake News Detection project__.ipynb\n",
      "-rw-rw-r-- 1 speedtech speedtech 90862320 Jan 19 06:41 google-chrome-stable_current_amd64.deb\n",
      "-rw-rw-r-- 1 speedtech speedtech    88051 Feb  6 16:54 manual_testing.csv\n",
      "-rw-rw-r-- 1 speedtech speedtech   691573 Feb  6 16:21 Matplotlib 12-01-2022.ipynb\n",
      "drwxr-xr-x 4 speedtech speedtech     4096 Jan  6 16:08 notebook\n",
      "-rw-rw-r-- 1 speedtech speedtech   755321 Feb  4 18:25 Pandas End_To_End_In_Detail v2 31-01-2022.ipynb\n",
      "-rw-rw-r-- 1 speedtech speedtech    16340 Feb  6 17:31 PYTHON_BASIC_PROGRAMS v4.ipynb\n",
      "-rw-rw-r-- 1 speedtech spee"
     ]
    },
    {
     "data": {
      "text/plain": [
       "0"
      ]
     },
     "execution_count": 22,
     "metadata": {},
     "output_type": "execute_result"
    },
    {
     "name": "stdout",
     "output_type": "stream",
     "text": [
      "dtech       69 Jan 29 17:01 sample1.txt\n",
      "-rw-rw-r-- 1 speedtech speedtech       65 Jan 19 18:19 sample4.txt\n",
      "-rw-rw-r-- 1 speedtech speedtech      162 Jan 19 18:25 sample.txt\n",
      "-rw-rw-r-- 1 speedtech speedtech    28629 Jan 11 15:53 test.csv\n",
      "drwxrwxr-x 3 speedtech speedtech     4096 Jan 11 15:57 titanic\n",
      "-rw-rw-r-- 1 speedtech speedtech 18697654 Jan 31 19:58 True.csv.zip\n",
      "-rw-rw-r-- 1 speedtech speedtech       72 Dec 23 15:41 Untitled1.ipynb\n",
      "-rw-rw-r-- 1 speedtech speedtech    85743 Jan 11 16:12 winequality-red.csv\n"
     ]
    }
   ],
   "source": [
    "#Write a python program to call an external command in Python.\n",
    "\n",
    "from subprocess import call\n",
    "call([\"ls\", \"-l\"])"
   ]
  },
  {
   "cell_type": "code",
   "execution_count": 23,
   "id": "e102a3de",
   "metadata": {},
   "outputs": [
    {
     "name": "stdout",
     "output_type": "stream",
     "text": [
      "2\n"
     ]
    }
   ],
   "source": [
    "#Write a Python program to find out the number of CPUs using\n",
    "import multiprocessing\n",
    "print(multiprocessing.cpu_count())\n"
   ]
  },
  {
   "cell_type": "code",
   "execution_count": 1,
   "id": "4baec093",
   "metadata": {},
   "outputs": [
    {
     "name": "stdout",
     "output_type": "stream",
     "text": [
      "2234.45\n",
      "<class 'float'>\n",
      "\n",
      "\n",
      "2234\n",
      "<class 'int'>\n"
     ]
    }
   ],
   "source": [
    "#Write a Python program to parse a string to Float or Integer. \n",
    "str1 = \"2234.45\"\n",
    "flt = float(str1)\n",
    "print(flt)\n",
    "print(type(flt))\n",
    "\n",
    "print(\"\\n\")\n",
    "\n",
    "int1 = int(flt)\n",
    "print(int1)\n",
    "print(type(int1))"
   ]
  },
  {
   "cell_type": "code",
   "execution_count": 2,
   "id": "b20b174b",
   "metadata": {},
   "outputs": [
    {
     "name": "stdout",
     "output_type": "stream",
     "text": [
      "**********"
     ]
    }
   ],
   "source": [
    "#Write a Python program to print without newline or space.\n",
    "for i in range(0,10):\n",
    "    print(\"*\",end =\"\")"
   ]
  },
  {
   "cell_type": "code",
   "execution_count": 3,
   "id": "5afc42a3",
   "metadata": {},
   "outputs": [
    {
     "name": "stdout",
     "output_type": "stream",
     "text": [
      "speedtech\n"
     ]
    }
   ],
   "source": [
    "#Write a Python program to get the current username \n",
    "\n",
    "import getpass\n",
    "print(getpass.getuser())"
   ]
  },
  {
   "cell_type": "code",
   "execution_count": 4,
   "id": "793450d3",
   "metadata": {},
   "outputs": [
    {
     "name": "stdout",
     "output_type": "stream",
     "text": [
      "192.168.0.103\n"
     ]
    }
   ],
   "source": [
    "#Write a Python to find local IP addresses using Python's stdlib\n",
    "import socket\n",
    "print([l for l in ([ip for ip in socket.gethostbyname_ex(socket.gethostname())[2] \n",
    "if not ip.startswith(\"127.\")][:1],\n",
    "    [[(s.connect(('8.8.8.8', 53)), \n",
    "    s.getsockname()[0], s.close()) \n",
    "    for s in [socket.socket(socket.AF_INET, \n",
    "socket.SOCK_DGRAM)]][0][1]]) \n",
    "       if l][0][0])"
   ]
  },
  {
   "cell_type": "code",
   "execution_count": 5,
   "id": "ac7bc7a2",
   "metadata": {},
   "outputs": [
    {
     "name": "stdout",
     "output_type": "stream",
     "text": [
      "Input a number: 4\n",
      "Sum of the first 4 positive integers: 10.0\n"
     ]
    }
   ],
   "source": [
    "#. Write a Python program to sum of the first n positive integers.\n",
    "n = int(input(\"Input a number: \"))\n",
    "sum_num = (n * (n + 1)) / 2\n",
    "print(\"Sum of the first\", n ,\"positive integers:\", sum_num)"
   ]
  },
  {
   "cell_type": "code",
   "execution_count": 6,
   "id": "d3bead60",
   "metadata": {},
   "outputs": [
    {
     "name": "stdout",
     "output_type": "stream",
     "text": [
      "Input your height: \n",
      "Feet: 5\n",
      "Inches: 7\n",
      "Your height is : 170 cm.\n"
     ]
    }
   ],
   "source": [
    "#Write a Python program to convert height (in feet and inches) to centimeters\n",
    "\n",
    "print(\"Input your height: \")\n",
    "h_ft = int(input(\"Feet: \"))\n",
    "h_inch = int(input(\"Inches: \"))\n",
    "\n",
    "h_inch += h_ft * 12\n",
    "h_cm = round(h_inch * 2.54, 1)\n",
    "\n",
    "print(\"Your height is : %d cm.\" % h_cm)"
   ]
  },
  {
   "cell_type": "code",
   "execution_count": 7,
   "id": "08d71c9c",
   "metadata": {},
   "outputs": [
    {
     "name": "stdout",
     "output_type": "stream",
     "text": [
      "10\n",
      "9\n",
      "8\n",
      "7\n",
      "6\n",
      "5\n",
      "4\n",
      "3\n",
      "2\n",
      "1\n"
     ]
    }
   ],
   "source": [
    "# to display number 1 to 10\n",
    "\n",
    "for x in range(10,0,-1):\n",
    "    print(x)\n"
   ]
  },
  {
   "cell_type": "markdown",
   "id": "86a58ebc",
   "metadata": {},
   "source": [
    "# LIST"
   ]
  },
  {
   "cell_type": "code",
   "execution_count": 8,
   "id": "b9559b84",
   "metadata": {},
   "outputs": [
    {
     "name": "stdout",
     "output_type": "stream",
     "text": [
      "28\n"
     ]
    }
   ],
   "source": [
    "#Write a Python program to sum all the items in a list.\n",
    "\n",
    "list1 = [1,2,3,4,5,6,7]\n",
    "sum_num = 0\n",
    "for n in list1:\n",
    "    sum_num += n\n",
    "print(sum_num)"
   ]
  },
  {
   "cell_type": "code",
   "execution_count": 12,
   "id": "e01a8523",
   "metadata": {},
   "outputs": [
    {
     "name": "stdout",
     "output_type": "stream",
     "text": [
      "1\n",
      "2\n",
      "6\n",
      "24\n",
      "120\n",
      "720\n",
      "5040\n"
     ]
    }
   ],
   "source": [
    "#Write a Python program to multiply all the items in a list\n",
    "list1 =  [1,2,3,4,5,6,7]\n",
    "tot =1\n",
    "for i in list1:\n",
    "    \n",
    "    tot *= i\n",
    "    print(tot)    "
   ]
  },
  {
   "cell_type": "code",
   "execution_count": 11,
   "id": "058b3acb",
   "metadata": {},
   "outputs": [
    {
     "name": "stdout",
     "output_type": "stream",
     "text": [
      "5040\n"
     ]
    }
   ],
   "source": [
    "def mul_num(items):\n",
    "    tot =1\n",
    "    for n in items:\n",
    "        tot *= n\n",
    "    return tot\n",
    "print(mul_num([1,2,3,4,5,6,7]))"
   ]
  },
  {
   "cell_type": "code",
   "execution_count": 22,
   "id": "a3ddddfd",
   "metadata": {},
   "outputs": [
    {
     "name": "stdout",
     "output_type": "stream",
     "text": [
      "34\n"
     ]
    }
   ],
   "source": [
    "# Write a Python program to get the largest number from a list\n",
    "\n",
    "def largest_num(items):\n",
    "    max =items[0] \n",
    "    for n in items:\n",
    "        if n > max:\n",
    "            max = n\n",
    "        \n",
    "    return max\n",
    "print(largest_num([1,5,2,34]))"
   ]
  },
  {
   "cell_type": "code",
   "execution_count": 23,
   "id": "55449ff7",
   "metadata": {},
   "outputs": [
    {
     "name": "stdout",
     "output_type": "stream",
     "text": [
      "1\n"
     ]
    }
   ],
   "source": [
    "#Write a Python program to get the smallest number from a list.\n",
    "def largest_num(items):\n",
    "    min =items[0] \n",
    "    for n in items:\n",
    "        if n < min:\n",
    "            min = n\n",
    "        \n",
    "    return min\n",
    "print(largest_num([1,5,2,34]))"
   ]
  },
  {
   "cell_type": "code",
   "execution_count": 44,
   "id": "f0c71a45",
   "metadata": {},
   "outputs": [
    {
     "name": "stdout",
     "output_type": "stream",
     "text": [
      "Eepected result : 2\n"
     ]
    }
   ],
   "source": [
    "#Write a Python program to count the number of strings where the string length is 2 or more and the first and last character are same from a given list of strings. \n",
    "#Sample List : ['abc', 'xyz', 'aba', '1221']\n",
    "#Expected Result : 2\n",
    "list1 = ['abc', 'xyz', 'aba', '1221']\n",
    "count = 0\n",
    "for i in list1:\n",
    "    \n",
    "    if len(i)>= 2 and i[0]==i[-1]:\n",
    "        count+=1\n",
    "print(\"Eepected result :\",count)     "
   ]
  },
  {
   "cell_type": "code",
   "execution_count": 84,
   "id": "0071d0a2",
   "metadata": {},
   "outputs": [
    {
     "name": "stdout",
     "output_type": "stream",
     "text": [
      "[(2, 1), (1, 2), (2, 3), (4, 4), (2, 5)]\n"
     ]
    }
   ],
   "source": [
    "#Write a Python program to get a list, sorted in increasing order by the last element in each tuple from a given list of non-empty tuples. \n",
    "#Sample List : [(2, 5), (1, 2), (4, 4), (2, 3), (2, 1)]\n",
    "#Expected Result : [(2, 1), (1, 2), (2, 3), (4, 4), (2, 5)]\n",
    "def last(n): return n[-1]\n",
    "\n",
    "def sort_list_last(tuples):\n",
    "  return sorted(tuples, key=last)\n",
    "\n",
    "print(sort_list_last([(2, 5), (1, 2), (4, 4), (2, 3), (2, 1)]))\n",
    "    \n",
    "     "
   ]
  },
  {
   "cell_type": "code",
   "execution_count": null,
   "id": "e994db58",
   "metadata": {},
   "outputs": [],
   "source": []
  },
  {
   "cell_type": "code",
   "execution_count": null,
   "id": "68b54730",
   "metadata": {},
   "outputs": [],
   "source": []
  }
 ],
 "metadata": {
  "kernelspec": {
   "display_name": "Python 3 (ipykernel)",
   "language": "python",
   "name": "python3"
  },
  "language_info": {
   "codemirror_mode": {
    "name": "ipython",
    "version": 3
   },
   "file_extension": ".py",
   "mimetype": "text/x-python",
   "name": "python",
   "nbconvert_exporter": "python",
   "pygments_lexer": "ipython3",
   "version": "3.8.10"
  }
 },
 "nbformat": 4,
 "nbformat_minor": 5
}
